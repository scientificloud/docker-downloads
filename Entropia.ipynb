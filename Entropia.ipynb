{
 "cells": [
  {
   "cell_type": "code",
   "execution_count": 3,
   "metadata": {},
   "outputs": [],
   "source": [
    "import numpy as np\n",
    "import matplotlib.pyplot as plt\n",
    "import pandas as pd\n",
    "from math import log2\n",
    "path = '/home/joaocrm/Documentos/Projetos/Entropia/german_credit_data.csv'"
   ]
  },
  {
   "cell_type": "code",
   "execution_count": 4,
   "metadata": {},
   "outputs": [],
   "source": [
    "df = pd.DataFrame({\n",
    "    \"Horas\": [4,5,8,12,15],\n",
    "    \"A no teste\": ['N','Y','N','Y','Y']\n",
    "})"
   ]
  },
  {
   "cell_type": "code",
   "execution_count": 60,
   "metadata": {},
   "outputs": [
    {
     "ename": "SyntaxError",
     "evalue": "unexpected EOF while parsing (<ipython-input-60-a6c2276d96f6>, line 46)",
     "output_type": "error",
     "traceback": [
      "\u001b[0;36m  File \u001b[0;32m\"<ipython-input-60-a6c2276d96f6>\"\u001b[0;36m, line \u001b[0;32m46\u001b[0m\n\u001b[0;31m    while(i<len(medias)):\u001b[0m\n\u001b[0m                         ^\u001b[0m\n\u001b[0;31mSyntaxError\u001b[0m\u001b[0;31m:\u001b[0m unexpected EOF while parsing\n"
     ]
    }
   ],
   "source": [
    "def ganho_entropia(entropia_geral, entropia_amostra):\n",
    "    return (entropia_geral - entropia_amostra)\n",
    "def entropia_geral(dataframe):\n",
    "    #Função que calcula a entropia de toda uma partição    \n",
    "    #agrupado['Y']\n",
    "    agrupado = dataframe.groupby(['A no teste'])['Horas'].count()\n",
    "    agrupado.sum()\n",
    "    \n",
    "    total_amostras = int(agrupado.sum())\n",
    "    entropia = 0\n",
    "    \n",
    "    for n in range(total_amostras):\n",
    "        am1 = (int(agrupado['Y'])/total_amostras)\n",
    "        am2 = (int(agrupado['N'])/total_amostras)\n",
    "        entropia = -( (am1*log2(am1)) +  (am2*log2(am2)) )\n",
    "    return entropia\n",
    "\n",
    "def entropia_amostra(amostra):\n",
    "    am_maximo = df['Horas'].max()\n",
    "    am_minimo = df['Horas'].min()\n",
    "    \n",
    "    medias = []\n",
    "    for x in range(len(df['Horas'])):\n",
    "        try:\n",
    "            media = (df['Horas'][x] + df['Horas'][x+1]) / 2\n",
    "            medias.append(media)\n",
    "        except:\n",
    "            print(\"Atingiu o limite\")\n",
    "            break\n",
    "            \n",
    "    \n",
    "    notas, horas = [],[]\n",
    "    for _, row in df[\"A no teste\"].iteritems():\n",
    "        notas.append(row)\n",
    "\n",
    "    for _, row in df['Horas'].iteritems():\n",
    "        horas.append(row)\n",
    "        \n",
    "    nova_lista, i = [], 0\n",
    "    cnt_notas = 0\n",
    "    \n",
    "    while(i<len(notas)):\n",
    "        if medias[i] <= horas[i]:\n",
    "            cnt_notas += 1"
   ]
  },
  {
   "cell_type": "code",
   "execution_count": 59,
   "metadata": {},
   "outputs": [
    {
     "ename": "ValueError",
     "evalue": "too many values to unpack (expected 2)",
     "output_type": "error",
     "traceback": [
      "\u001b[0;31m---------------------------------------------------------------------------\u001b[0m",
      "\u001b[0;31mValueError\u001b[0m                                Traceback (most recent call last)",
      "\u001b[0;32m<ipython-input-59-c5dbb936b597>\u001b[0m in \u001b[0;36m<module>\u001b[0;34m()\u001b[0m\n\u001b[1;32m      3\u001b[0m \u001b[0mdf\u001b[0m\u001b[0;34m.\u001b[0m\u001b[0mcount\u001b[0m\u001b[0;34m(\u001b[0m\u001b[0;34m)\u001b[0m\u001b[0;34m[\u001b[0m\u001b[0;34m\"A no teste\"\u001b[0m\u001b[0;34m]\u001b[0m\u001b[0;34m\u001b[0m\u001b[0m\n\u001b[1;32m      4\u001b[0m \u001b[0;34m\u001b[0m\u001b[0m\n\u001b[0;32m----> 5\u001b[0;31m \u001b[0;32mfor\u001b[0m \u001b[0mx\u001b[0m\u001b[0;34m,\u001b[0m \u001b[0my\u001b[0m \u001b[0;32min\u001b[0m \u001b[0mrange\u001b[0m\u001b[0;34m(\u001b[0m\u001b[0;36m10\u001b[0m\u001b[0;34m)\u001b[0m\u001b[0;34m,\u001b[0m \u001b[0mrange\u001b[0m\u001b[0;34m(\u001b[0m\u001b[0;36m20\u001b[0m\u001b[0;34m)\u001b[0m\u001b[0;34m:\u001b[0m\u001b[0;34m\u001b[0m\u001b[0m\n\u001b[0m\u001b[1;32m      6\u001b[0m     \u001b[0mprint\u001b[0m\u001b[0;34m(\u001b[0m\u001b[0mx\u001b[0m\u001b[0;34m,\u001b[0m\u001b[0my\u001b[0m\u001b[0;34m)\u001b[0m\u001b[0;34m\u001b[0m\u001b[0m\n",
      "\u001b[0;31mValueError\u001b[0m: too many values to unpack (expected 2)"
     ]
    }
   ],
   "source": [
    "#entropia_amostra(df)\n",
    "\n",
    "df.count()[\"A no teste\"]\n",
    "\n",
    "for x, y in range(10), range(20):\n",
    "    print(x,y)"
   ]
  }
 ],
 "metadata": {
  "kernelspec": {
   "display_name": "Python 3",
   "language": "python",
   "name": "python3"
  },
  "language_info": {
   "codemirror_mode": {
    "name": "ipython",
    "version": 3
   },
   "file_extension": ".py",
   "mimetype": "text/x-python",
   "name": "python",
   "nbconvert_exporter": "python",
   "pygments_lexer": "ipython3",
   "version": "3.5.2"
  }
 },
 "nbformat": 4,
 "nbformat_minor": 2
}
